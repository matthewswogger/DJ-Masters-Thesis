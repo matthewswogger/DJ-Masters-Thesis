{
 "cells": [
  {
   "cell_type": "code",
   "execution_count": 160,
   "metadata": {
    "collapsed": true
   },
   "outputs": [],
   "source": [
    "import numpy as np\n",
    "import pandas as pd\n",
    "import matplotlib.pyplot as plt\n",
    "from sklearn.utils import resample\n",
    "import scipy.stats as st\n",
    "import matplotlib.mlab as mlab\n",
    "import math\n",
    "%matplotlib inline"
   ]
  },
  {
   "cell_type": "code",
   "execution_count": 77,
   "metadata": {
    "collapsed": true
   },
   "outputs": [],
   "source": [
    "def bootstrap(arr,n_boots):\n",
    "    '''\n",
    "    variables:\n",
    "        arr = the data that we are random sampling from\n",
    "        n_boots = the number of bootstraps we want to make\n",
    "    \n",
    "    returns:\n",
    "        list of lists containing the number of bootstrap\n",
    "        samples we wanted to make\n",
    "    '''\n",
    "    return np.array([resample(arr) for _ in xrange(n_boots)])"
   ]
  },
  {
   "cell_type": "code",
   "execution_count": 78,
   "metadata": {
    "collapsed": true
   },
   "outputs": [],
   "source": [
    "def bootstrap_means(boots):\n",
    "    '''\n",
    "    variables:\n",
    "        boots = our list of lists of the individual bootstraps\n",
    "        \n",
    "    returns:\n",
    "        list of all of the means of the individual bootstraps\n",
    "    '''\n",
    "    return np.array([np.mean(boot) for boot in boots])"
   ]
  },
  {
   "cell_type": "code",
   "execution_count": 79,
   "metadata": {
    "collapsed": true
   },
   "outputs": [],
   "source": [
    "df = pd.read_csv('data/Grades-Table 1.csv')"
   ]
  },
  {
   "cell_type": "code",
   "execution_count": 80,
   "metadata": {
    "collapsed": false
   },
   "outputs": [],
   "source": [
    "df_f = df[df.Treatment == 'F'] # dataframe of treatment group F\n",
    "df_t = df[df.Treatment == 'T'] # dataframe of treatment group T"
   ]
  },
  {
   "cell_type": "code",
   "execution_count": 81,
   "metadata": {
    "collapsed": true
   },
   "outputs": [],
   "source": [
    "f_grades = np.array(df_f.FINAL_RAW_BASE_GRADE) # list of the final grades for treatment group F\n",
    "t_grades = np.array(df_t.FINAL_RAW_BASE_GRADE) # list of the final grades for treatment group T"
   ]
  },
  {
   "cell_type": "code",
   "execution_count": 82,
   "metadata": {
    "collapsed": false
   },
   "outputs": [],
   "source": [
    "f_boots = bootstrap(f_grades, 100000) # bootstrap samples for treatment group F\n",
    "t_boots = bootstrap(t_grades, 100000) # bootstrap samples for treatment group T"
   ]
  },
  {
   "cell_type": "code",
   "execution_count": 83,
   "metadata": {
    "collapsed": true
   },
   "outputs": [],
   "source": [
    "f_boot_means = bootstrap_means(f_boots) # means of the bootstrap samples for treatment group F\n",
    "t_boot_means = bootstrap_means(t_boots) # means of the bootstrap samples for treatment group T"
   ]
  },
  {
   "cell_type": "code",
   "execution_count": 130,
   "metadata": {
    "collapsed": false
   },
   "outputs": [
    {
     "data": {
      "text/plain": [
       "<matplotlib.text.Text at 0x11eecebd0>"
      ]
     },
     "execution_count": 130,
     "metadata": {},
     "output_type": "execute_result"
    },
    {
     "data": {
      "image/png": "[encoded data removed]",
      "text/plain": [
       "<matplotlib.figure.Figure at 0x11eee9290>"
      ]
     },
     "metadata": {},
     "output_type": "display_data"
    }
   ],
   "source": [
    "plt.hist(f_boot_means, bins = 100)\n",
    "plt.xlabel('Boot Means for F')\n",
    "plt.ylabel('Frequency')"
   ]
  },
  {
   "cell_type": "code",
   "execution_count": 131,
   "metadata": {
    "collapsed": false
   },
   "outputs": [
    {
     "data": {
      "text/plain": [
       "<matplotlib.text.Text at 0x11f9d0c90>"
      ]
     },
     "execution_count": 131,
     "metadata": {},
     "output_type": "execute_result"
    },
    {
     "data": {
      "image/png": "[encoded data removed]",
      "text/plain": [
       "<matplotlib.figure.Figure at 0x11efb4250>"
      ]
     },
     "metadata": {},
     "output_type": "display_data"
    }
   ],
   "source": [
    "plt.hist(t_boot_means, bins = 100)\n",
    "plt.xlabel('Boot Means for T')\n",
    "plt.ylabel('Frequency')"
   ]
  },
  {
   "cell_type": "code",
   "execution_count": 117,
   "metadata": {
    "collapsed": false
   },
   "outputs": [
    {
     "data": {
      "text/html": [
       "<div>\n",
       "<table border=\"1\" class=\"dataframe\">\n",
       "  <thead>\n",
       "    <tr style=\"text-align: right;\">\n",
       "      <th></th>\n",
       "      <th>Section</th>\n",
       "      <th>Instructor</th>\n",
       "      <th>Time</th>\n",
       "      <th>Treatment</th>\n",
       "      <th>Student</th>\n",
       "      <th>SECTION_INSTRUCTOR_TIME_TREATMENT_STUDENT</th>\n",
       "      <th>Scientists_ID</th>\n",
       "      <th>Microscope_Quiz</th>\n",
       "      <th>Microscopes_HW</th>\n",
       "      <th>Sci_Method_Quiz</th>\n",
       "      <th>...</th>\n",
       "      <th>Attendance</th>\n",
       "      <th>Lab_Book</th>\n",
       "      <th>TOTAL_POINTS_BEFORE_EXTRA_CREDIT</th>\n",
       "      <th>Pseudoscience_Quiz</th>\n",
       "      <th>Mitosis_Paper</th>\n",
       "      <th>Genetic_Paper</th>\n",
       "      <th>GMO_Paper</th>\n",
       "      <th>TOTAL_POINTS</th>\n",
       "      <th>FINAL_RAW_BASE_GRADE</th>\n",
       "      <th>Letter_Grade_Given</th>\n",
       "    </tr>\n",
       "  </thead>\n",
       "  <tbody>\n",
       "    <tr>\n",
       "      <th>0</th>\n",
       "      <td>J</td>\n",
       "      <td>7</td>\n",
       "      <td>A</td>\n",
       "      <td>F</td>\n",
       "      <td>1</td>\n",
       "      <td>J.7.A.F.1</td>\n",
       "      <td>20</td>\n",
       "      <td>0</td>\n",
       "      <td>30</td>\n",
       "      <td>20.0</td>\n",
       "      <td>...</td>\n",
       "      <td>30</td>\n",
       "      <td>50</td>\n",
       "      <td>895.0</td>\n",
       "      <td>10.0</td>\n",
       "      <td>10.0</td>\n",
       "      <td>0.0</td>\n",
       "      <td>10.0</td>\n",
       "      <td>925.0</td>\n",
       "      <td>0.9250</td>\n",
       "      <td>A</td>\n",
       "    </tr>\n",
       "    <tr>\n",
       "      <th>1</th>\n",
       "      <td>J</td>\n",
       "      <td>7</td>\n",
       "      <td>A</td>\n",
       "      <td>F</td>\n",
       "      <td>2</td>\n",
       "      <td>J.7.A.F.2</td>\n",
       "      <td>20</td>\n",
       "      <td>16</td>\n",
       "      <td>30</td>\n",
       "      <td>20.0</td>\n",
       "      <td>...</td>\n",
       "      <td>30</td>\n",
       "      <td>50</td>\n",
       "      <td>860.5</td>\n",
       "      <td>9.5</td>\n",
       "      <td>0.0</td>\n",
       "      <td>0.0</td>\n",
       "      <td>0.0</td>\n",
       "      <td>870.0</td>\n",
       "      <td>0.8700</td>\n",
       "      <td>B</td>\n",
       "    </tr>\n",
       "    <tr>\n",
       "      <th>2</th>\n",
       "      <td>J</td>\n",
       "      <td>7</td>\n",
       "      <td>A</td>\n",
       "      <td>F</td>\n",
       "      <td>3</td>\n",
       "      <td>J.7.A.F.3</td>\n",
       "      <td>20</td>\n",
       "      <td>24</td>\n",
       "      <td>21</td>\n",
       "      <td>23.0</td>\n",
       "      <td>...</td>\n",
       "      <td>30</td>\n",
       "      <td>50</td>\n",
       "      <td>793.0</td>\n",
       "      <td>9.5</td>\n",
       "      <td>0.0</td>\n",
       "      <td>0.0</td>\n",
       "      <td>0.0</td>\n",
       "      <td>802.5</td>\n",
       "      <td>0.8025</td>\n",
       "      <td>B</td>\n",
       "    </tr>\n",
       "    <tr>\n",
       "      <th>3</th>\n",
       "      <td>J</td>\n",
       "      <td>7</td>\n",
       "      <td>A</td>\n",
       "      <td>F</td>\n",
       "      <td>4</td>\n",
       "      <td>J.7.A.F.4</td>\n",
       "      <td>20</td>\n",
       "      <td>22</td>\n",
       "      <td>28</td>\n",
       "      <td>18.0</td>\n",
       "      <td>...</td>\n",
       "      <td>30</td>\n",
       "      <td>45</td>\n",
       "      <td>868.0</td>\n",
       "      <td>8.5</td>\n",
       "      <td>0.0</td>\n",
       "      <td>0.0</td>\n",
       "      <td>0.0</td>\n",
       "      <td>876.5</td>\n",
       "      <td>0.8765</td>\n",
       "      <td>B</td>\n",
       "    </tr>\n",
       "    <tr>\n",
       "      <th>4</th>\n",
       "      <td>J</td>\n",
       "      <td>7</td>\n",
       "      <td>A</td>\n",
       "      <td>F</td>\n",
       "      <td>5</td>\n",
       "      <td>J.7.A.F.5</td>\n",
       "      <td>20</td>\n",
       "      <td>20</td>\n",
       "      <td>28</td>\n",
       "      <td>15.5</td>\n",
       "      <td>...</td>\n",
       "      <td>30</td>\n",
       "      <td>45</td>\n",
       "      <td>880.0</td>\n",
       "      <td>9.0</td>\n",
       "      <td>10.0</td>\n",
       "      <td>10.0</td>\n",
       "      <td>0.0</td>\n",
       "      <td>909.0</td>\n",
       "      <td>0.9090</td>\n",
       "      <td>A</td>\n",
       "    </tr>\n",
       "  </tbody>\n",
       "</table>\n",
       "<p>5 rows × 43 columns</p>\n",
       "</div>"
      ],
      "text/plain": [
       "  Section  Instructor Time Treatment  Student  \\\n",
       "0       J           7    A         F        1   \n",
       "1       J           7    A         F        2   \n",
       "2       J           7    A         F        3   \n",
       "3       J           7    A         F        4   \n",
       "4       J           7    A         F        5   \n",
       "\n",
       "  SECTION_INSTRUCTOR_TIME_TREATMENT_STUDENT  Scientists_ID  Microscope_Quiz  \\\n",
       "0                                 J.7.A.F.1             20                0   \n",
       "1                                 J.7.A.F.2             20               16   \n",
       "2                                 J.7.A.F.3             20               24   \n",
       "3                                 J.7.A.F.4             20               22   \n",
       "4                                 J.7.A.F.5             20               20   \n",
       "\n",
       "   Microscopes_HW  Sci_Method_Quiz         ...          Attendance  Lab_Book  \\\n",
       "0              30             20.0         ...                  30        50   \n",
       "1              30             20.0         ...                  30        50   \n",
       "2              21             23.0         ...                  30        50   \n",
       "3              28             18.0         ...                  30        45   \n",
       "4              28             15.5         ...                  30        45   \n",
       "\n",
       "   TOTAL_POINTS_BEFORE_EXTRA_CREDIT  Pseudoscience_Quiz  Mitosis_Paper  \\\n",
       "0                             895.0                10.0           10.0   \n",
       "1                             860.5                 9.5            0.0   \n",
       "2                             793.0                 9.5            0.0   \n",
       "3                             868.0                 8.5            0.0   \n",
       "4                             880.0                 9.0           10.0   \n",
       "\n",
       "   Genetic_Paper  GMO_Paper  TOTAL_POINTS  FINAL_RAW_BASE_GRADE  \\\n",
       "0            0.0       10.0         925.0                0.9250   \n",
       "1            0.0        0.0         870.0                0.8700   \n",
       "2            0.0        0.0         802.5                0.8025   \n",
       "3            0.0        0.0         876.5                0.8765   \n",
       "4           10.0        0.0         909.0                0.9090   \n",
       "\n",
       "   Letter_Grade_Given  \n",
       "0                   A  \n",
       "1                   B  \n",
       "2                   B  \n",
       "3                   B  \n",
       "4                   A  \n",
       "\n",
       "[5 rows x 43 columns]"
      ]
     },
     "execution_count": 117,
     "metadata": {},
     "output_type": "execute_result"
    }
   ],
   "source": [
    "df.head()"
   ]
  },
  {
   "cell_type": "code",
   "execution_count": 138,
   "metadata": {
    "collapsed": false
   },
   "outputs": [],
   "source": [
    "f_std = f_grades.std() / np.sqrt(len(f_grades)) # std for central limit therom\n",
    "t_std = t_grades.std() / np.sqrt(len(f_grades)) # std for central limit therom"
   ]
  },
  {
   "cell_type": "code",
   "execution_count": 140,
   "metadata": {
    "collapsed": false
   },
   "outputs": [],
   "source": [
    "f_mean = f_boot_means.mean() # the mean of the F bootstrap sample means\n",
    "t_mean = t_boot_means.mean() # the mean of the T bootstrap sample means"
   ]
  },
  {
   "cell_type": "code",
   "execution_count": 141,
   "metadata": {
    "collapsed": false
   },
   "outputs": [],
   "source": [
    "z_f = (f_mean - t_mean) / f_std # z score if we use the f_std\n",
    "z_t = (f_mean - t_mean) / t_std # z score if we use the t_std"
   ]
  },
  {
   "cell_type": "code",
   "execution_count": 144,
   "metadata": {
    "collapsed": false
   },
   "outputs": [
    {
     "data": {
      "text/plain": [
       "0.44224830363550099"
      ]
     },
     "execution_count": 144,
     "metadata": {},
     "output_type": "execute_result"
    }
   ],
   "source": [
    "z_f # with this z = .44 we get a p = .67"
   ]
  },
  {
   "cell_type": "code",
   "execution_count": 145,
   "metadata": {
    "collapsed": false
   },
   "outputs": [
    {
     "data": {
      "text/plain": [
       "0.54778954369239263"
      ]
     },
     "execution_count": 145,
     "metadata": {},
     "output_type": "execute_result"
    }
   ],
   "source": [
    "z_t # with this z = .55 we get a p = .7088"
   ]
  },
  {
   "cell_type": "code",
   "execution_count": 170,
   "metadata": {
    "collapsed": false
   },
   "outputs": [
    {
     "data": {
      "image/png": "[encoded data removed]",
      "text/plain": [
       "<matplotlib.figure.Figure at 0x1222d5850>"
      ]
     },
     "metadata": {},
     "output_type": "display_data"
    }
   ],
   "source": [
    "mu_f = f_mean\n",
    "sigma_f = f_std\n",
    "x_f = np.linspace(f_boot_means.min(), f_boot_means.max(), 50)\n",
    "plt.plot(x_f, mlab.normpdf(x_f, mu_f, sigma_f), label = 'F Treatment')\n",
    "\n",
    "mu_t = t_mean\n",
    "sigma_t = t_std\n",
    "x_t = np.linspace(t_boot_means.min(), t_boot_means.max(), 50)\n",
    "plt.plot(x_t, mlab.normpdf(x_t, mu_t, sigma_t), color = 'g', label = 'T Treatment')\n",
    "plt.legend()\n",
    "plt.show()"
   ]
  },
  {
   "cell_type": "code",
   "execution_count": 171,
   "metadata": {
    "collapsed": false
   },
   "outputs": [
    {
     "data": {
      "text/plain": [
       "array(['J', 'F', 'H', 'I', 'C', 'D', 'A', 'B', 'G', 'E'], dtype=object)"
      ]
     },
     "execution_count": 171,
     "metadata": {},
     "output_type": "execute_result"
    }
   ],
   "source": [
    "df.Section.unique()"
   ]
  },
  {
   "cell_type": "code",
   "execution_count": 172,
   "metadata": {
    "collapsed": false
   },
   "outputs": [
    {
     "data": {
      "text/plain": [
       "array([7, 4, 5, 2, 3, 6, 1])"
      ]
     },
     "execution_count": 172,
     "metadata": {},
     "output_type": "execute_result"
    }
   ],
   "source": [
    "df.Instructor.unique()"
   ]
  },
  {
   "cell_type": "code",
   "execution_count": 173,
   "metadata": {
    "collapsed": false
   },
   "outputs": [
    {
     "data": {
      "text/plain": [
       "array(['A', 'N', 'P'], dtype=object)"
      ]
     },
     "execution_count": 173,
     "metadata": {},
     "output_type": "execute_result"
    }
   ],
   "source": [
    "df.Time.unique()"
   ]
  },
  {
   "cell_type": "code",
   "execution_count": 174,
   "metadata": {
    "collapsed": false
   },
   "outputs": [
    {
     "data": {
      "text/plain": [
       "array(['F', 'T'], dtype=object)"
      ]
     },
     "execution_count": 174,
     "metadata": {},
     "output_type": "execute_result"
    }
   ],
   "source": [
    "df.Treatment.unique()"
   ]
  },
  {
   "cell_type": "code",
   "execution_count": 175,
   "metadata": {
    "collapsed": false
   },
   "outputs": [
    {
     "data": {
      "text/plain": [
       "array([ 1,  2,  3,  4,  5,  6,  7,  8,  9, 10, 11, 12, 13, 14, 15, 16, 17,\n",
       "       18, 19, 20, 21, 22, 23])"
      ]
     },
     "execution_count": 175,
     "metadata": {},
     "output_type": "execute_result"
    }
   ],
   "source": [
    "df.Student.unique()"
   ]
  },
  {
   "cell_type": "code",
   "execution_count": null,
   "metadata": {
    "collapsed": true
   },
   "outputs": [],
   "source": []
  }
 ],
 "metadata": {
  "kernelspec": {
   "display_name": "Python 2",
   "language": "python",
   "name": "python2"
  },
  "language_info": {
   "codemirror_mode": {
    "name": "ipython",
    "version": 2
   },
   "file_extension": ".py",
   "mimetype": "text/x-python",
   "name": "python",
   "nbconvert_exporter": "python",
   "pygments_lexer": "ipython2",
   "version": "2.7.11"
  }
 },
 "nbformat": 4,
 "nbformat_minor": 0
}
