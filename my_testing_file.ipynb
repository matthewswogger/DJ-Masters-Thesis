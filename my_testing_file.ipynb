{
 "cells": [
  {
   "cell_type": "code",
   "execution_count": 1,
   "metadata": {
    "collapsed": true
   },
   "outputs": [],
   "source": [
    "import numpy as np\n",
    "import pandas as pd\n",
    "import matplotlib.pyplot as plt\n",
    "from sklearn.utils import resample\n",
    "import scipy.stats as st\n",
    "import matplotlib.mlab as mlab\n",
    "import math\n",
    "%matplotlib inline"
   ]
  },
  {
   "cell_type": "code",
   "execution_count": 2,
   "metadata": {
    "collapsed": true
   },
   "outputs": [],
   "source": [
    "def bootstrap(arr,n_boots):\n",
    "    '''\n",
    "    variables:\n",
    "        arr = the data that we are random sampling from\n",
    "        n_boots = the number of bootstraps we want to make\n",
    "    \n",
    "    returns:\n",
    "        list of lists containing the number of bootstrap\n",
    "        samples we wanted to make\n",
    "    '''\n",
    "    return np.array([resample(arr) for _ in xrange(n_boots)])"
   ]
  },
  {
   "cell_type": "code",
   "execution_count": 88,
   "metadata": {
    "collapsed": true
   },
   "outputs": [],
   "source": [
    "def split_into_treatment_groups_and_take_means(arr):\n",
    "    '''\n",
    "    variables:\n",
    "        arr = an array of bootstrap samples\n",
    "    \n",
    "    returns:\n",
    "        flip = an array of the means of the flipped treatment\n",
    "        traditional = an array of the means of the traditional treatment\n",
    "    '''\n",
    "    flip = []\n",
    "    traditional = []\n",
    "    for boot in xrange(len(arr)):\n",
    "        x = pd.DataFrame(arr[boot])\n",
    "        \n",
    "        f = x[x[0] == 'F']\n",
    "        t = x[x[0] == 'T']\n",
    "        \n",
    "        f = np.array(f[1]).mean()\n",
    "        t = np.array(t[1]).mean()\n",
    "        \n",
    "        flip.append(f)\n",
    "        traditional.append(t)\n",
    "    return np.array(flip), np.array(traditional)"
   ]
  },
  {
   "cell_type": "code",
   "execution_count": 143,
   "metadata": {
    "collapsed": true
   },
   "outputs": [],
   "source": [
    "def split_into_teacher_groups_and_take_means(arr):\n",
    "    '''\n",
    "    variables:\n",
    "        arr = an array of bootstrap samples\n",
    "    \n",
    "    returns:\n",
    "        ins_2 = an array of the means for Instructor 2\n",
    "        ins_5 = an array of the means for Instructor 5\n",
    "        ins_6 = an array of the means for Instructor 6\n",
    "    '''\n",
    "    ins_2 = []\n",
    "    ins_5 = []\n",
    "    ins_6 = []\n",
    "    for boot in xrange(len(arr)):\n",
    "        x = pd.DataFrame(arr[boot])\n",
    "        \n",
    "        a = x[x[0] == 2]\n",
    "        b = x[x[0] == 5]\n",
    "        c = x[x[0] == 6]\n",
    "        \n",
    "        a = np.array(a[1]).mean()\n",
    "        b = np.array(b[1]).mean()\n",
    "        c = np.array(c[1]).mean()\n",
    "        \n",
    "        ins_2.append(a)\n",
    "        ins_5.append(b)\n",
    "        ins_6.append(c)\n",
    "    return np.array(ins_2), np.array(ins_5), np.array(ins_6)"
   ]
  },
  {
   "cell_type": "code",
   "execution_count": 115,
   "metadata": {
    "collapsed": true
   },
   "outputs": [],
   "source": [
    "df_original = pd.read_csv('data/Grades-Table 1.csv')"
   ]
  },
  {
   "cell_type": "markdown",
   "metadata": {},
   "source": [
    "### From here we will be comparing the means of final grades between Flip Class and Traditional Class"
   ]
  },
  {
   "cell_type": "code",
   "execution_count": 116,
   "metadata": {
    "collapsed": false
   },
   "outputs": [],
   "source": [
    "df = df_original[['Treatment', 'FINAL_RAW_BASE_GRADE']] # this is the only part of the data that we want for this"
   ]
  },
  {
   "cell_type": "code",
   "execution_count": 122,
   "metadata": {
    "collapsed": false
   },
   "outputs": [],
   "source": [
    "bootstrap_samples = bootstrap(np.array(df),10000) # these are our bootstrap samples"
   ]
  },
  {
   "cell_type": "code",
   "execution_count": 123,
   "metadata": {
    "collapsed": false
   },
   "outputs": [],
   "source": [
    "f_boot_means, t_boot_means = \\\n",
    "                    split_into_treatment_groups_and_take_means(bootstrap_samples) # the means of the bootstrap samples"
   ]
  },
  {
   "cell_type": "code",
   "execution_count": 124,
   "metadata": {
    "collapsed": false
   },
   "outputs": [
    {
     "data": {
      "image/png": "[encoded data removed]",
      "text/plain": [
       "<matplotlib.figure.Figure at 0x1174b9a90>"
      ]
     },
     "metadata": {},
     "output_type": "display_data"
    }
   ],
   "source": [
    "plt.figure(figsize=(15,5))\n",
    "\n",
    "plt.subplot(121)\n",
    "plt.hist(f_boot_means, bins = 30, label = 'Flipped')\n",
    "plt.xlabel('Boot Means for F')\n",
    "plt.ylabel('Frequency')\n",
    "plt.legend()\n",
    "\n",
    "plt.subplot(122)\n",
    "plt.hist(t_boot_means, bins = 30, color = 'g', label = 'Traditional')\n",
    "plt.xlabel('Boot Means for T')\n",
    "plt.ylabel('Frequency')\n",
    "plt.legend()\n",
    "plt.show()"
   ]
  },
  {
   "cell_type": "code",
   "execution_count": 125,
   "metadata": {
    "collapsed": false
   },
   "outputs": [],
   "source": [
    "f_mean = f_boot_means.mean() # the mean of the F bootstrap sample means\n",
    "t_mean = t_boot_means.mean() # the mean of the T bootstrap sample means\n",
    "\n",
    "t_std = t_boot_means.std() / np.sqrt(len(t_boot_means)) # std for central limit therom\n",
    "\n",
    "z_t = (f_mean - t_mean) / t_std # z score"
   ]
  },
  {
   "cell_type": "code",
   "execution_count": 134,
   "metadata": {
    "collapsed": false
   },
   "outputs": [
    {
     "data": {
      "image/png": "[encoded data removed]",
      "text/plain": [
       "<matplotlib.figure.Figure at 0x11ac74ad0>"
      ]
     },
     "metadata": {},
     "output_type": "display_data"
    }
   ],
   "source": [
    "plt.figure(figsize=(15,5))\n",
    "\n",
    "x_f = np.linspace(.828, .832, 2000)\n",
    "plt.plot(x_f, mlab.normpdf(x_f, f_mean, t_std), label = 'Flip class')\n",
    "plt.vlines(f_mean, 0, 3200, color = 'b')\n",
    "\n",
    "x_t = np.linspace(.822, .825, 2000)\n",
    "plt.plot(x_t, mlab.normpdf(x_t, t_mean, t_std), color = 'g', label = 'Traditional class')\n",
    "plt.vlines(t_mean, 0, 3200, color = 'g')\n",
    "\n",
    "plt.legend()\n",
    "plt.xlim(.821, .833)\n",
    "plt.ylim(0, 3500)\n",
    "plt.show()"
   ]
  },
  {
   "cell_type": "code",
   "execution_count": 127,
   "metadata": {
    "collapsed": false
   },
   "outputs": [
    {
     "name": "stdout",
     "output_type": "stream",
     "text": [
      "    Flipped Class Final Grade mean: 0.830718728856\n",
      "Traditional Class Final Grade mean: 0.823429848871\n",
      "            Z - score for A/B test: 57.4986865886\n"
     ]
    }
   ],
   "source": [
    "print \"    Flipped Class Final Grade mean:\", f_mean\n",
    "print \"Traditional Class Final Grade mean:\", t_mean\n",
    "print \"            Z - score for A/B test:\", z_t"
   ]
  },
  {
   "cell_type": "markdown",
   "metadata": {},
   "source": [
    "We have to be very carful with the interpretation of the above graph, the z-score (it's about 57) and the acompanying p-value which is basically 0.0. The bootstrapping procedure has allowed us to do a few usful things. It allowed us to use the Central Limit Therom (CLT) and then compute a z-score instead of a t-test, which is great. Because of the CLT we can say that our findings are not just a fluke; the Flipped class did produce a better final grade than the Traditional class and this relationship would hold if we applied this to the population, not just the sample population that is your class that you experimented on.\n",
    "\n",
    "The catch is, that with a mean of about 83% and 82% do your findings matter? I say NO, it doesn't matter. You had already come to this conclusion before I did any of this but now you have a good statistical way of saying this.\n",
    "\n",
    "One last thing, I will talk to one of my teachers next week and make sure everything I have done above is within best practices and make sure the paragraphs I just wrote are the correct interpretation. I want to make sure I'm completely explicit with this interpretation; let's make sure we don't lie with statistics."
   ]
  },
  {
   "cell_type": "markdown",
   "metadata": {},
   "source": [
    "### Here we'll compare teachers"
   ]
  },
  {
   "cell_type": "code",
   "execution_count": 139,
   "metadata": {
    "collapsed": true
   },
   "outputs": [],
   "source": [
    "df_teachers = \\\n",
    "        df_original[['Instructor', 'FINAL_RAW_BASE_GRADE']] # this is the only part of the data that we want for this"
   ]
  },
  {
   "cell_type": "code",
   "execution_count": 141,
   "metadata": {
    "collapsed": false
   },
   "outputs": [],
   "source": [
    "teacher_bootstrap_samples = bootstrap(np.array(df_teachers),10000) # these are our bootstrap samples"
   ]
  },
  {
   "cell_type": "code",
   "execution_count": 145,
   "metadata": {
    "collapsed": true
   },
   "outputs": [],
   "source": [
    "boot_means_2, boot_means_5, boot_means_6 = \\\n",
    "            split_into_teacher_groups_and_take_means(teacher_bootstrap_samples) # the means of the bootstrap samples"
   ]
  },
  {
   "cell_type": "code",
   "execution_count": 146,
   "metadata": {
    "collapsed": false
   },
   "outputs": [
    {
     "data": {
      "image/png": "[encoded data removed]",
      "text/plain": [
       "<matplotlib.figure.Figure at 0x11728d550>"
      ]
     },
     "metadata": {},
     "output_type": "display_data"
    }
   ],
   "source": [
    "plt.figure(figsize=(18,5))\n",
    "\n",
    "plt.subplot(131)\n",
    "plt.hist(boot_means_2, bins = 20, label = 'Instructor 2')\n",
    "plt.xlabel('Boot Means for Instructor 2')\n",
    "plt.ylabel('Frequency')\n",
    "plt.legend()\n",
    "\n",
    "plt.subplot(132)\n",
    "plt.hist(boot_means_5, bins = 20, color = 'g', label = 'Instructor 5')\n",
    "plt.xlabel('Boot Means for Instructor 5')\n",
    "plt.ylabel('Frequency')\n",
    "plt.legend()\n",
    "\n",
    "plt.subplot(133)\n",
    "plt.hist(boot_means_6, bins = 20, color = 'r', label = 'Instructor 6')\n",
    "plt.xlabel('Boot Means for Instructor 6')\n",
    "plt.ylabel('Frequency')\n",
    "plt.legend()\n",
    "plt.show()"
   ]
  },
  {
   "cell_type": "code",
   "execution_count": 147,
   "metadata": {
    "collapsed": true
   },
   "outputs": [],
   "source": [
    "mean_2 = boot_means_2.mean() # the mean of the Instructor 2 bootstrap sample means\n",
    "mean_5 = boot_means_5.mean() # the mean of the Instructor 5 bootstrap sample means\n",
    "mean_6 = boot_means_6.mean() # the mean of the Instructor 6 bootstrap sample means\n",
    "\n",
    "std_2 = boot_means_2.std() / np.sqrt(len(boot_means_2)) # std for central limit therom 2\n",
    "std_5 = boot_means_5.std() / np.sqrt(len(boot_means_5)) # std for central limit therom 5\n",
    "std_6 = boot_means_6.std() / np.sqrt(len(boot_means_6)) # std for central limit therom 6\n",
    "\n",
    "z_2_5 = (mean_2 - mean_5) / std_2\n",
    "z_2_6 = (mean_2 - mean_6) / std_2\n",
    "z_5_6 = (mean_5 - mean_6) / std_5"
   ]
  },
  {
   "cell_type": "code",
   "execution_count": 151,
   "metadata": {
    "collapsed": false
   },
   "outputs": [
    {
     "data": {
      "image/png": "[encoded data removed]",
      "text/plain": [
       "<matplotlib.figure.Figure at 0x11ac81810>"
      ]
     },
     "metadata": {},
     "output_type": "display_data"
    }
   ],
   "source": [
    "plt.figure(figsize=(20,8))\n",
    "\n",
    "x_2 = np.linspace(.6, .7, 2000)\n",
    "plt.plot(x_2, mlab.normpdf(x_2, mean_2, std_2), label = 'Instructor 2')\n",
    "#plt.vlines(mean_2, 0, 700, color = 'b') # .6377\n",
    "\n",
    "x_5 = np.linspace(.85, .9, 2000)\n",
    "plt.plot(x_5, mlab.normpdf(x_5, mean_5, std_2), color = 'g', label = 'Instructor 5')\n",
    "#plt.vlines(mean_5, 0, 700, color = 'g')\n",
    "\n",
    "x_6 = np.linspace(.9, .94, 2000)\n",
    "plt.plot(x_6, mlab.normpdf(x_6, mean_6, std_2), color = 'r', label = 'Instructor 6')\n",
    "#plt.vlines(mean_6, 0, 700, color = 'r')\n",
    "\n",
    "plt.legend()\n",
    "plt.xlim(.63, .94)\n",
    "plt.ylim(0, 2600)\n",
    "plt.show()"
   ]
  },
  {
   "cell_type": "code",
   "execution_count": 152,
   "metadata": {
    "collapsed": false
   },
   "outputs": [
    {
     "name": "stdout",
     "output_type": "stream",
     "text": [
      "0.637619008158\n",
      "0.894206061963\n",
      "0.933201202293\n"
     ]
    }
   ],
   "source": [
    "print mean_2\n",
    "print mean_5\n",
    "print mean_6"
   ]
  },
  {
   "cell_type": "markdown",
   "metadata": {},
   "source": [
    "# Let's run a Linear Regression and see what the import features are"
   ]
  },
  {
   "cell_type": "markdown",
   "metadata": {},
   "source": [
    "### To do this we will need to do some feature engineering"
   ]
  },
  {
   "cell_type": "code",
   "execution_count": 158,
   "metadata": {
    "collapsed": true
   },
   "outputs": [],
   "source": [
    "df_demographics = pd.read_csv('data/Demographics-Table 1.csv')"
   ]
  },
  {
   "cell_type": "code",
   "execution_count": 159,
   "metadata": {
    "collapsed": true
   },
   "outputs": [],
   "source": [
    "# this is the merged dataframe with the demographics table and the grades table\n",
    "df_merged = df_original.merge(df_demographics, left_on = 'SECTION_INSTRUCTOR_TIME_TREATMENT_STUDENT', \\\n",
    "                                                right_on = 'SECTION_INSTRUCTOR_TIME_TREATMENT_STUDENT', how = 'outer')"
   ]
  },
  {
   "cell_type": "code",
   "execution_count": 160,
   "metadata": {
    "collapsed": true
   },
   "outputs": [],
   "source": [
    "df_merged = df_merged[np.isfinite(df_merged['Instructor'])] # drops students that weren't in the Grades table"
   ]
  },
  {
   "cell_type": "code",
   "execution_count": 161,
   "metadata": {
    "collapsed": true
   },
   "outputs": [],
   "source": [
    "df_merged = df_merged[np.isfinite(df_merged['Age'])] # drops students that weren't in the Demographics table"
   ]
  },
  {
   "cell_type": "code",
   "execution_count": 162,
   "metadata": {
    "collapsed": true
   },
   "outputs": [],
   "source": [
    "df_merged.reset_index(drop=True, inplace=True) # just resets the indexes after all that dropping"
   ]
  },
  {
   "cell_type": "code",
   "execution_count": null,
   "metadata": {
    "collapsed": true
   },
   "outputs": [],
   "source": []
  }
 ],
 "metadata": {
  "kernelspec": {
   "display_name": "Python 2",
   "language": "python",
   "name": "python2"
  },
  "language_info": {
   "codemirror_mode": {
    "name": "ipython",
    "version": 2
   },
   "file_extension": ".py",
   "mimetype": "text/x-python",
   "name": "python",
   "nbconvert_exporter": "python",
   "pygments_lexer": "ipython2",
   "version": "2.7.11"
  }
 },
 "nbformat": 4,
 "nbformat_minor": 0
}
