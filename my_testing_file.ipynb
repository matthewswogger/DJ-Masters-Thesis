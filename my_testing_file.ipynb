{
 "cells": [
  {
   "cell_type": "code",
   "execution_count": 1,
   "metadata": {
    "collapsed": true
   },
   "outputs": [],
   "source": [
    "import numpy as np\n",
    "import pandas as pd\n",
    "import matplotlib.pyplot as plt\n",
    "from sklearn.utils import resample\n",
    "import scipy.stats as st\n",
    "import matplotlib.mlab as mlab\n",
    "import math\n",
    "%matplotlib inline"
   ]
  },
  {
   "cell_type": "code",
   "execution_count": 2,
   "metadata": {
    "collapsed": true
   },
   "outputs": [],
   "source": [
    "def bootstrap(arr,n_boots):\n",
    "    '''\n",
    "    variables:\n",
    "        arr = the data that we are random sampling from\n",
    "        n_boots = the number of bootstraps we want to make\n",
    "    \n",
    "    returns:\n",
    "        list of lists containing the number of bootstrap\n",
    "        samples we wanted to make\n",
    "    '''\n",
    "    return np.array([resample(arr) for _ in xrange(n_boots)])"
   ]
  },
  {
   "cell_type": "code",
   "execution_count": 3,
   "metadata": {
    "collapsed": true
   },
   "outputs": [],
   "source": [
    "def bootstrap_means(boots):\n",
    "    '''\n",
    "    variables:\n",
    "        boots = our list of lists of the individual bootstraps\n",
    "        \n",
    "    returns:\n",
    "        list of all of the means of the individual bootstraps\n",
    "    '''\n",
    "    return np.array([np.mean(boot) for boot in boots])"
   ]
  },
  {
   "cell_type": "code",
   "execution_count": 4,
   "metadata": {
    "collapsed": true
   },
   "outputs": [],
   "source": [
    "df = pd.read_csv('data/Grades-Table 1.csv')"
   ]
  },
  {
   "cell_type": "markdown",
   "metadata": {},
   "source": [
    "### From here we will be comparing the means of final grades between Flip Class and Traditional Class"
   ]
  },
  {
   "cell_type": "code",
   "execution_count": 5,
   "metadata": {
    "collapsed": false
   },
   "outputs": [],
   "source": [
    "df_f = df[df.Treatment == 'F'] # dataframe of treatment group F\n",
    "df_t = df[df.Treatment == 'T'] # dataframe of treatment group T"
   ]
  },
  {
   "cell_type": "code",
   "execution_count": 6,
   "metadata": {
    "collapsed": true
   },
   "outputs": [],
   "source": [
    "f_grades = np.array(df_f.FINAL_RAW_BASE_GRADE) # list of the final grades for treatment group F\n",
    "t_grades = np.array(df_t.FINAL_RAW_BASE_GRADE) # list of the final grades for treatment group T"
   ]
  },
  {
   "cell_type": "code",
   "execution_count": 7,
   "metadata": {
    "collapsed": false
   },
   "outputs": [],
   "source": [
    "f_boots = bootstrap(f_grades, 1000) # bootstrap samples for treatment group F\n",
    "t_boots = bootstrap(t_grades, 1000) # bootstrap samples for treatment group T"
   ]
  },
  {
   "cell_type": "code",
   "execution_count": 8,
   "metadata": {
    "collapsed": true
   },
   "outputs": [],
   "source": [
    "f_boot_means = bootstrap_means(f_boots) # means of the bootstrap samples for treatment group F\n",
    "t_boot_means = bootstrap_means(t_boots) # means of the bootstrap samples for treatment group T"
   ]
  },
  {
   "cell_type": "code",
   "execution_count": 9,
   "metadata": {
    "collapsed": false
   },
   "outputs": [
    {
     "data": {
      "image/png": "[encoded data removed]",
      "text/plain": [
       "<matplotlib.figure.Figure at 0x116e4d110>"
      ]
     },
     "metadata": {},
     "output_type": "display_data"
    }
   ],
   "source": [
    "plt.figure(figsize=(15,5))\n",
    "\n",
    "plt.subplot(121)\n",
    "plt.hist(f_boot_means, bins = 30, label = 'Flipped')\n",
    "plt.xlabel('Boot Means for F')\n",
    "plt.ylabel('Frequency')\n",
    "plt.legend()\n",
    "\n",
    "plt.subplot(122)\n",
    "plt.hist(t_boot_means, bins = 30, color = 'g', label = 'Traditional')\n",
    "plt.xlabel('Boot Means for T')\n",
    "plt.ylabel('Frequency')\n",
    "plt.legend()\n",
    "plt.show()"
   ]
  },
  {
   "cell_type": "code",
   "execution_count": 10,
   "metadata": {
    "collapsed": false
   },
   "outputs": [],
   "source": [
    "f_mean = f_boot_means.mean() # the mean of the F bootstrap sample means\n",
    "t_mean = t_boot_means.mean() # the mean of the T bootstrap sample means\n",
    "\n",
    "t_std = t_boot_means.std() / np.sqrt(len(t_boot_means)) # std for central limit therom\n",
    "\n",
    "z_t = (f_mean - t_mean) / t_std # z score"
   ]
  },
  {
   "cell_type": "code",
   "execution_count": 59,
   "metadata": {
    "collapsed": false
   },
   "outputs": [
    {
     "data": {
      "image/png": "[encoded data removed]",
      "text/plain": [
       "<matplotlib.figure.Figure at 0x11c5e8750>"
      ]
     },
     "metadata": {},
     "output_type": "display_data"
    }
   ],
   "source": [
    "x_f = np.linspace(.828, .834, 2000)\n",
    "plt.plot(x_f, mlab.normpdf(x_f, f_mean, t_std), label = 'Flip class')\n",
    "plt.vlines(f_mean, 0, 1050, color = 'b')\n",
    "\n",
    "x_t = np.linspace(.82, .826, 2000)\n",
    "plt.plot(x_t, mlab.normpdf(x_t, t_mean, t_std), color = 'g', label = 'Traditional class')\n",
    "plt.vlines(t_mean, 0, 1050, color = 'g')\n",
    "\n",
    "plt.legend()\n",
    "plt.xlim(.82, .834)\n",
    "plt.ylim(0, 1350)\n",
    "plt.show()"
   ]
  },
  {
   "cell_type": "code",
   "execution_count": 12,
   "metadata": {
    "collapsed": false
   },
   "outputs": [
    {
     "name": "stdout",
     "output_type": "stream",
     "text": [
      "    Flipped Class Final Grade mean: 0.83007218282\n",
      "Traditional Class Final Grade mean: 0.823133229987\n",
      "            Z - score for A/B test: 17.672918005\n"
     ]
    }
   ],
   "source": [
    "print \"    Flipped Class Final Grade mean:\", f_mean\n",
    "print \"Traditional Class Final Grade mean:\", t_mean\n",
    "print \"            Z - score for A/B test:\", z_t"
   ]
  },
  {
   "cell_type": "markdown",
   "metadata": {},
   "source": [
    "We have to be very carful with the interpretation of the above graph, the z-score (it's about 14) and the acompanying p-value which is basically 0.0. The bootstrapping procedure has allowed us to do a few usful things. It allowed us to use the Central Limit Therom (CLT) and then compute a z-score instead of a t-test, which is great. Because of the CLT we can say that our findings are not just a fluke; the Flipped class did produce a better final grade than the Traditional class and this relationship would hold if we applied this to the population, not just the sample population that is your class that you experimented on.\n",
    "\n",
    "The catch is, that with a mean of about 83% and 82% do your findings matter? I say NO, it doesn't matter. You had already come to this conclusion before I did any of this but now you have a good statistical way of saying this.\n",
    "\n",
    "One last thing, I will talk to one of my teachers next week and make sure everything I have done above is within best practices and make sure the paragraphs I just wrote are the correct interpretation. I want to make sure I'm completely explicit with this interpretation; let's make sure we don't lie with statistics."
   ]
  },
  {
   "cell_type": "markdown",
   "metadata": {},
   "source": [
    "### Here we'll compare teachers"
   ]
  },
  {
   "cell_type": "code",
   "execution_count": 35,
   "metadata": {
    "collapsed": true
   },
   "outputs": [],
   "source": [
    "df_1 = df[df.Instructor == 1] # dataframe of Instructor 1, 21 students, and only has Treatment T\n",
    "df_2 = df[df.Instructor == 2] # dataframe of Instructor 2, 41 students\n",
    "df_3 = df[df.Instructor == 3] # dataframe of Instructor 3, 19 students, and only has Treatment F\n",
    "df_4 = df[df.Instructor == 4] # dataframe of Instructor 4, 18 students, and only has Treatment T\n",
    "df_5 = df[df.Instructor == 5] # dataframe of Instructor 5, 38 students\n",
    "df_6 = df[df.Instructor == 6] # dataframe of Instructor 6, 42 students\n",
    "df_7 = df[df.Instructor == 7] # dataframe of Instructor 7, 19 students, and only has Treatment F"
   ]
  },
  {
   "cell_type": "code",
   "execution_count": 36,
   "metadata": {
    "collapsed": true
   },
   "outputs": [],
   "source": [
    "grades_2 = np.array(df_2.FINAL_RAW_BASE_GRADE) # list of the final grades for Instructor 2\n",
    "grades_5 = np.array(df_5.FINAL_RAW_BASE_GRADE) # list of the final grades for Instructor 5\n",
    "grades_6 = np.array(df_6.FINAL_RAW_BASE_GRADE) # list of the final grades for Instructor 6"
   ]
  },
  {
   "cell_type": "code",
   "execution_count": 87,
   "metadata": {
    "collapsed": true
   },
   "outputs": [],
   "source": [
    "boots_2 = bootstrap(grades_2, 1000) # bootstrap samples for Instructor 2\n",
    "boots_5 = bootstrap(grades_5, 1000) # bootstrap samples for Instructor 5\n",
    "boots_6 = bootstrap(grades_6, 1000) # bootstrap samples for Instructor 6"
   ]
  },
  {
   "cell_type": "code",
   "execution_count": 88,
   "metadata": {
    "collapsed": true
   },
   "outputs": [],
   "source": [
    "boot_means_2 = bootstrap_means(boots_2) # means of the bootstrap samples for Instructor 2\n",
    "boot_means_5 = bootstrap_means(boots_5) # means of the bootstrap samples for Instructor 5\n",
    "boot_means_6 = bootstrap_means(boots_6) # means of the bootstrap samples for Instructor 6"
   ]
  },
  {
   "cell_type": "code",
   "execution_count": 96,
   "metadata": {
    "collapsed": false
   },
   "outputs": [
    {
     "data": {
      "image/png": "[encoded data removed]",
      "text/plain": [
       "<matplotlib.figure.Figure at 0x119ad9350>"
      ]
     },
     "metadata": {},
     "output_type": "display_data"
    }
   ],
   "source": [
    "plt.figure(figsize=(18,5))\n",
    "\n",
    "plt.subplot(131)\n",
    "plt.hist(boot_means_2, bins = 20, label = 'Instructor 2')\n",
    "plt.xlabel('Boot Means for Instructor 2')\n",
    "plt.ylabel('Frequency')\n",
    "plt.legend()\n",
    "\n",
    "plt.subplot(132)\n",
    "plt.hist(boot_means_5, bins = 20, color = 'g', label = 'Instructor 5')\n",
    "plt.xlabel('Boot Means for Instructor 5')\n",
    "plt.ylabel('Frequency')\n",
    "plt.legend()\n",
    "\n",
    "plt.subplot(133)\n",
    "plt.hist(boot_means_6, bins = 20, color = 'r', label = 'Instructor 6')\n",
    "plt.xlabel('Boot Means for Instructor 6')\n",
    "plt.ylabel('Frequency')\n",
    "plt.legend()\n",
    "plt.show()"
   ]
  },
  {
   "cell_type": "code",
   "execution_count": 90,
   "metadata": {
    "collapsed": true
   },
   "outputs": [],
   "source": [
    "mean_2 = boot_means_2.mean() # the mean of the Instructor 2 bootstrap sample means\n",
    "mean_5 = boot_means_5.mean() # the mean of the Instructor 5 bootstrap sample means\n",
    "mean_6 = boot_means_6.mean() # the mean of the Instructor 6 bootstrap sample means\n",
    "\n",
    "std_2 = boot_means_2.std() / np.sqrt(len(boot_means_2)) # std for central limit therom 2\n",
    "std_5 = boot_means_5.std() / np.sqrt(len(boot_means_5)) # std for central limit therom 5\n",
    "std_6 = boot_means_6.std() / np.sqrt(len(boot_means_6)) # std for central limit therom 6\n",
    "\n",
    "z_2_5 = (mean_2 - mean_5) / std_2\n",
    "z_2_6 = (mean_2 - mean_6) / std_2\n",
    "z_5_6 = (mean_5 - mean_6) / std_5"
   ]
  },
  {
   "cell_type": "code",
   "execution_count": 138,
   "metadata": {
    "collapsed": false
   },
   "outputs": [
    {
     "data": {
      "image/png": "[encoded data removed]",
      "text/plain": [
       "<matplotlib.figure.Figure at 0x11bf23d50>"
      ]
     },
     "metadata": {},
     "output_type": "display_data"
    }
   ],
   "source": [
    "plt.figure(figsize=(20,8))\n",
    "\n",
    "x_2 = np.linspace(.6, .7, 2000)\n",
    "plt.plot(x_2, mlab.normpdf(x_2, mean_2, std_2), label = 'Instructor 2')\n",
    "plt.vlines(mean_2, 0, 700, color = 'b') # .6377\n",
    "\n",
    "x_5 = np.linspace(.85, .92, 2000)\n",
    "plt.plot(x_5, mlab.normpdf(x_5, mean_5, std_2), color = 'g', label = 'Instructor 5')\n",
    "plt.vlines(mean_5, 0, 700, color = 'g')\n",
    "\n",
    "x_6 = np.linspace(.9, .95, 2000)\n",
    "plt.plot(x_6, mlab.normpdf(x_6, mean_6, std_2), color = 'r', label = 'Instructor 6')\n",
    "plt.vlines(mean_6, 0, 700, color = 'r')\n",
    "\n",
    "plt.legend()\n",
    "plt.xlim(.63, .94)\n",
    "plt.ylim(0, 850)\n",
    "plt.show()"
   ]
  },
  {
   "cell_type": "code",
   "execution_count": 104,
   "metadata": {
    "collapsed": false
   },
   "outputs": [
    {
     "name": "stdout",
     "output_type": "stream",
     "text": [
      "0.637904010815\n",
      "0.893388\n",
      "0.933314571429\n"
     ]
    }
   ],
   "source": [
    "print mean_2\n",
    "print mean_5\n",
    "print mean_6"
   ]
  },
  {
   "cell_type": "code",
   "execution_count": null,
   "metadata": {
    "collapsed": true
   },
   "outputs": [],
   "source": []
  }
 ],
 "metadata": {
  "kernelspec": {
   "display_name": "Python 2",
   "language": "python",
   "name": "python2"
  },
  "language_info": {
   "codemirror_mode": {
    "name": "ipython",
    "version": 2
   },
   "file_extension": ".py",
   "mimetype": "text/x-python",
   "name": "python",
   "nbconvert_exporter": "python",
   "pygments_lexer": "ipython2",
   "version": "2.7.11"
  }
 },
 "nbformat": 4,
 "nbformat_minor": 0
}
